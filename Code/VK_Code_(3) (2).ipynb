{
  "cells": [
    {
      "cell_type": "markdown",
      "metadata": {
        "id": "RAv2xVrw-SYr"
      },
      "source": [
        "# Simulating the nucleosynthesis of elements in stars"
      ]
    },
    {
      "cell_type": "code",
      "execution_count": 102,
      "metadata": {
        "id": "t1dPFLPy-SYu"
      },
      "outputs": [],
      "source": [
        "%matplotlib inline\n",
        "import numpy as np\n",
        "import matplotlib.pyplot as plt\n",
        "\n",
        "from scipy import integrate"
      ]
    },
    {
      "cell_type": "code",
      "execution_count": 103,
      "metadata": {
        "id": "fskfjI0W-SYv"
      },
      "outputs": [],
      "source": [
        "NA = 6.022e23"
      ]
    },
    {
      "cell_type": "markdown",
      "metadata": {
        "id": "I6tTZi-5-SYw"
      },
      "source": [
        "Construct a series of differential equations to simulate the nucleosynthesis of elements in stars due to the CNO1 cycle.\n",
        "\n",
        "The differential equations are given by:\n",
        "\n",
        "\\begin{align}\n",
        "\\frac{d C12}{dt} &= H \\left(N15 \\right) \\langle \\sigma v \\rangle_{N15 (p,\\alpha)} - H \\left(C12 \\right) \\langle \\sigma v \\rangle_{C12 (p,\\gamma)} \\\\\n",
        "\\frac{d C13}{dt} &= H \\left(C12 \\right) \\langle \\sigma v \\rangle_{C12 (p,\\gamma)} - H \\left(C13 \\right) \\langle \\sigma v \\rangle_{C13 (p,\\gamma)} \\\\\n",
        "\\frac{d N14}{dt} &= H \\left(C13 \\right) \\langle \\sigma v \\rangle_{C13 (p,\\gamma)} - H \\left(N14 \\right) \\langle \\sigma v \\rangle_{N14 (p,\\gamma)} \\\\\n",
        "\\frac{d N15}{dt} &= H \\left(N14 \\right) \\langle \\sigma v \\rangle_{N14 (p,\\gamma)} - H \\left(N15 \\right) \\langle \\sigma v \\rangle_{N15 (p,\\alpha)} \\\\\n",
        "\\end{align}\n",
        "\n",
        "Where:\n",
        "- $H(X)$ is the relative abundance of element $X$.\n",
        "- $\\langle \\sigma v \\rangle_{X (p,\\gamma/\\alpha)}$ is the reaction rate of the reaction $X (p,\\gamma/\\alpha)$ determined by the following equation:\n",
        "\n",
        "\\begin{align}\n",
        "\\langle \\sigma v \\rangle_{X (p,\\gamma/\\alpha)} &= \\int_0^{\\infty} v \\sigma(v) P(v) dv \\\\\n",
        "&= \\left( \\frac{8}{\\pi m_{01}}\\right)^{1/2} \\frac{1}{(kT)^{3/2}} \\int_0^{\\infty} E \\sigma(E) e^{-E/kT} dE\n",
        "\\end{align}\n",
        "\n",
        "Where:\n",
        "- $m_{01}$ is the reduced mass of the system.\n",
        "- $k$ is the Boltzmann constant.\n",
        "- $T$ is the temperature of the star's core.\n",
        "- $E$ is the energy\n",
        "- $\\sigma(E)$ is the cross section of the reaction.\n",
        "\n",
        "Note: We ignore the reactions involving $O16$ and $N13$ because they decay very quickly relative to the other elements."
      ]
    },
    {
      "cell_type": "code",
      "execution_count": 104,
      "metadata": {
        "id": "wbElNGds-SYw"
      },
      "outputs": [],
      "source": [
        "def CNO1_cycle(elements:dict, temp=15e6)->dict:\n",
        "    \"\"\"\n",
        "    Construct the differential equations for systems of the CNO1 cycle.\n",
        "\n",
        "    Parameters\n",
        "    ----------\n",
        "    elements : dict\n",
        "        Dictionary containing the current values of the initialAbundances.\n",
        "    masses : dict\n",
        "        Masses of the initialAbundances in the system.\n",
        "    temp : float\n",
        "        The temperature of the system in Kelvin. Default is 15 million Kelvin.\n",
        "    crossSection : float\n",
        "        The cross-section of the reaction. Default is 1 for the time being.\n",
        "\n",
        "    Returns\n",
        "    -------\n",
        "    dX : dict\n",
        "        The differential equations for the system.\n",
        "    \"\"\"\n",
        "\n",
        "    t9 = temp/1e9 # convert to 10^9 K\n",
        "\n",
        "    reaction_rates = {\n",
        "        \"C12(p,g)N13\": 2.04e7/(t9**(2/3)) * np.exp(-13.690/(t9**(1/3)) - (t9/1.500)**2),\n",
        "        \"C13(p,g)N14\": 8.01e7/(t9**(2/3)) * np.exp(-13.717/(t9**(1/3)) - (t9/2)**2),\n",
        "        \"N14(p,g)O15\": 4.90e7/(t9**(2/3)) * np.exp(-15.228/(t9**(1/3)) - (t9/3.294)**2),\n",
        "        \"N15(p,a)C12\": 1.08e12/(t9**(2/3)) * np.exp(-15.251/(t9**(1/3)) - (t9/0.522)**2)\n",
        "    }\n",
        "\n",
        "    C12toC13 = reaction_rates[\"C12(p,g)N13\"] * elements.get('C12', 0) / elements['H1']\n",
        "    C13toN14 = reaction_rates[\"C13(p,g)N14\"] * elements.get('C13', 0) / elements['H1']\n",
        "    N14toN15 = reaction_rates[\"N14(p,g)O15\"] * elements.get('N14', 0) / elements['H1']\n",
        "    N15toC12 = reaction_rates[\"N15(p,a)C12\"] * elements.get('N15', 0) / elements['H1']\n",
        "\n",
        "\n",
        "    dX = {\n",
        "        'H1': -C12toC13 - N15toC12 - C13toN14 - N14toN15,\n",
        "        'He4': N15toC12,\n",
        "        'C12': N15toC12 - C12toC13,\n",
        "        'C13': C12toC13 - C13toN14,\n",
        "        'N14': C13toN14 - N14toN15,\n",
        "        'N15': N14toN15 - N15toC12\n",
        "    }\n",
        "\n",
        "    return dX"
      ]
    },
    {
      "cell_type": "markdown",
      "metadata": {
        "id": "vR-IZFzT-SYx"
      },
      "source": [
        "The CNO2 cycle is a series of reactions that occur in stars that are more massive than the Sun. The CNO2 cycle is similar to the CNO1 cycle, but it involves the elements $N14$, $N15$, $O15$, $O16$, $O17$, and $F17$.\n",
        "\n",
        "Due to the larger masses of the elements involved in the CNO2 cycle, these reactions are typically less likely to occur than the reactions in the CNO1 cycle. We expect this cycle to therefore have a smaller impact on the abundance of elements in the star's core.\n",
        "\n",
        "The differential equations for the CNO2 cycle are given by:\n",
        "\n",
        "\\begin{align}\n",
        "\\frac{d N14}{dt} &= H \\left(O17 \\right) \\langle \\sigma v \\rangle_{O17 (p,\\alpha)} - H \\left(N14 \\right) \\langle \\sigma v \\rangle_{N14 (p,\\gamma)} \\\\\n",
        "\\frac{d N15}{dt} &= H \\left(N14 \\right) \\langle \\sigma v \\rangle_{N14 (p,\\gamma)} - H \\left(N15 \\right) \\langle \\sigma v \\rangle_{N15 (p,\\gamma)} \\\\\n",
        "\\frac{d O16}{dt} &= H \\left(N15 \\right) \\langle \\sigma v \\rangle_{N15 (p,\\gamma)} - H \\left(O16 \\right) \\langle \\sigma v \\rangle_{O16 (p,\\gamma)} \\\\\n",
        "\\frac{d O17}{dt} &= H \\left(O16 \\right) \\langle \\sigma v \\rangle_{O16 (p,\\gamma)} - H \\left(O17 \\right) \\langle \\sigma v \\rangle_{O17 (p,\\alpha)} \\\\\n",
        "\\end{align}\n",
        "\n",
        "Due to the very short half lives of $O15$ and $F17$, we ignore these elements in our simulation and assume they all decay immediately to $N15$ and $O17$ respectively."
      ]
    },
    {
      "cell_type": "code",
      "execution_count": 105,
      "metadata": {
        "id": "Iyu3Q3gj-SYy"
      },
      "outputs": [],
      "source": [
        "def CNO2_cycle(elements:dict, temp=15e6)->dict:\n",
        "    \"\"\"\n",
        "    Construct the differential equations for systems of the CNO1 cycle.\n",
        "\n",
        "    Parameters\n",
        "    ----------\n",
        "    elements : dict\n",
        "        Dictionary containing the current values of the initialAbundances.\n",
        "    masses : dict\n",
        "        Masses of the initialAbundances in the system.\n",
        "    temp : float\n",
        "        The temperature of the system in Kelvin. Default is 15 million Kelvin.\n",
        "    crossSection : float\n",
        "        The cross-section of the reaction. Default is 1 for the time being.\n",
        "\n",
        "    Returns\n",
        "    -------\n",
        "    dX : dict\n",
        "        The differential equations for the system.\n",
        "    \"\"\"\n",
        "\n",
        "    t9 = temp/1e9 # convert to 10^9 K\n",
        "\n",
        "    reaction_rates = {\n",
        "        \"N14(p,g)O15\": 4.90e7/(t9**(2/3)) * np.exp(-15.228/(t9**(1/3)) - (t9/3.294)**2),\n",
        "        \"N15(p,g)O16\": 9.78e8/(t9**(2/3)) * np.exp(-15.251/(t9**(1/3)) - (t9/0.450)**2),\n",
        "        \"O16(p,g)F17\": 1.50e8/(t9**(2/3) * (1 + 2.13*(1 - np.exp(-0.728 * t9**(2/3))))) * np.exp(-16.692/(t9**(1/3))),\n",
        "        \"O17(p,a)N14\": 1.53e7/(t9**(2/3)) * np.exp(-16.712/(t9**(1/3)) - (t9/0.565)**2)\n",
        "    }\n",
        "\n",
        "    N14toN15 = reaction_rates[\"N14(p,g)O15\"] * elements.get('N14', 0) / elements['H1']\n",
        "    N15toO16 = reaction_rates[\"N15(p,g)O16\"] * elements.get('N15', 0) / elements['H1']\n",
        "    O16toO17 = reaction_rates[\"O16(p,g)F17\"] * elements.get('O16', 0) / elements['H1']\n",
        "    O17toN14 = reaction_rates[\"O17(p,a)N14\"] * elements.get('O17', 0) / elements['H1']\n",
        "\n",
        "    dX = {\n",
        "        \"H1\": -N14toN15 - N15toO16 - O16toO17 - O17toN14,\n",
        "        \"He4\": O17toN14,\n",
        "        \"N14\": O17toN14 - N14toN15,\n",
        "        \"N15\": N14toN15 - N15toO16,\n",
        "        \"O16\": N15toO16 - O16toO17,\n",
        "        \"O17\": O16toO17 - O17toN14\n",
        "    }\n",
        "\n",
        "    return dX"
      ]
    },
    {
      "cell_type": "code",
      "source": [
        "def C12_He4_to_O16(elements: dict, temp=15e6) -> dict:\n",
        "    \"\"\"\n",
        "    Construct the differential equations for the reaction\n",
        "    12C + 4He -> 16O + γ without the reverse reaction.\n",
        "\n",
        "    Parameters\n",
        "    ----------\n",
        "    elements : dict\n",
        "        Dictionary containing the current abundances of elements.\n",
        "    temp : float\n",
        "        The temperature of the system in Kelvin. Default is 15 million Kelvin.\n",
        "\n",
        "    Returns\n",
        "    -------\n",
        "    dX : dict\n",
        "        The differential equations for the system.\n",
        "    \"\"\"\n",
        "\n",
        "    t9 = temp / 1e9  # Convert to 10^9 K\n",
        "\n",
        "    # Forward reaction rate for 12C(α,γ)16O\n",
        "    forward_rate =  1.04e8 * (t9 ** 2) /( np.exp(1+0.0489 * (t9 ** 2/3)**2))\n",
        "\n",
        "\n",
        "    C12toO16 = forward_rate * elements.get('C12', 0) * elements.get('He4', 0) / elements['H1']\n",
        "\n",
        "    dX = {\n",
        "        'C12': -C12toO16,\n",
        "        'He4': -C12toO16,\n",
        "        'O16': C12toO16\n",
        "    }\n",
        "\n",
        "    return dX\n"
      ],
      "metadata": {
        "id": "NdqCQMZ8_Kjc"
      },
      "execution_count": 106,
      "outputs": []
    },
    {
      "cell_type": "code",
      "execution_count": 107,
      "metadata": {
        "id": "RIGrIThE-SYz"
      },
      "outputs": [],
      "source": [
        "def integrate_system(elements:dict, temp=15e6)->tuple:\n",
        "    \"\"\"\n",
        "    Integrate the system of differential equations.\n",
        "\n",
        "    Parameters\n",
        "    ----------\n",
        "    elements : dict\n",
        "        Dictionary containing the initial values of the initialAbundances.\n",
        "    temp : float\n",
        "        The temperature of the system in Kelvin. Default is 15 million Kelvin for the core of the Sun.\n",
        "\n",
        "    Returns\n",
        "    -------\n",
        "    times : ndarray\n",
        "        Array containing the time steps.\n",
        "    X : ndarray\n",
        "        Array containing the values of the initialAbundances.\n",
        "\n",
        "    \"\"\"\n",
        "\n",
        "    # tMax = 1e18\n",
        "    tMax = 1e17\n",
        "    dT = tMax/1000\n",
        "\n",
        "    t = np.arange(0, tMax+dT, dT)\n",
        "\n",
        "\n",
        "    X = []\n",
        "    X.append(elements)\n",
        "\n",
        "    for _ in range(1, len(t)):\n",
        "        newX = X[-1].copy()\n",
        "        dCNO1 = CNO1_cycle(newX, temp)\n",
        "        dCNO2 = CNO2_cycle(newX, temp)\n",
        "        dC12He4O16 = C12_He4_to_O16(newX, temp)\n",
        "\n",
        "        for elem, dX in dCNO1.items():\n",
        "            newX[elem] = newX.get(elem, 0) + dX*dT/NA\n",
        "\n",
        "        for elem, dX in dCNO2.items():\n",
        "            newX[elem] = newX.get(elem, 0) + dX*dT/NA\n",
        "\n",
        "\n",
        "        for elem, dX in dC12He4O16.items():\n",
        "           newX[elem] = newX.get(elem, 0) + dX * dT / NA\n",
        "\n",
        "        X.append(newX)\n",
        "\n",
        "    return t, X"
      ]
    },
    {
      "cell_type": "code",
      "execution_count": 108,
      "metadata": {
        "id": "BoMmhD1X-SY0"
      },
      "outputs": [],
      "source": [
        "elementMasses = {\n",
        "    'H1': 1.007825,\n",
        "    'He4': 4.002603,\n",
        "    'C12': 12.000000,\n",
        "    'C13': 13.003355,\n",
        "    'N14': 14.003074,\n",
        "    'N15': 15.000109,\n",
        "    'O16': 15.994915,\n",
        "    'F17': 17.002095,\n",
        "    'O17': 16.999132\n",
        "} # in atomic mass units\n",
        "\n",
        "\n",
        "H1 = 6e26 # Initial abundance of Hydrogen in the Sun\n",
        "\n",
        "initialAbundances = {\n",
        "    'H1': H1,\n",
        "    'He4': H1*0.25,\n",
        "    'C12': H1*0.087,\n",
        "    # 'C13': 0,\n",
        "    'N14': H1*0.000082,\n",
        "    # 'N15': 0,\n",
        "    # 'O16': 0,\n",
        "    # 'O17': 0\n",
        "}"
      ]
    },
    {
      "cell_type": "code",
      "execution_count": 109,
      "metadata": {
        "id": "3H_Hrm8_-SY1"
      },
      "outputs": [],
      "source": [
        "# plot the results\n",
        "times, X = integrate_system(initialAbundances)"
      ]
    },
    {
      "cell_type": "code",
      "execution_count": 110,
      "metadata": {
        "colab": {
          "base_uri": "https://localhost:8080/",
          "height": 546
        },
        "id": "NsXt8V23-SY2",
        "outputId": "7e3a7971-4495-4196-c770-82e474c5284b"
      },
      "outputs": [
        {
          "output_type": "display_data",
          "data": {
            "text/plain": [
              "<Figure size 1000x600 with 1 Axes>"
            ],
            "image/png": "[encoded data removed]"
          },
          "metadata": {}
        }
      ],
      "source": [
        "\n",
        "plt.figure(figsize=(10, 6))\n",
        "for elem in X[-1].keys():\n",
        "    plt.loglog(times, [x.get(elem,0) for x in X], label=elem)\n",
        "plt.xlabel('Time (s)')\n",
        "plt.ylabel('Abundance')\n",
        "# plt.yscale('log')\n",
        "plt.legend()\n",
        "plt.grid()\n",
        "plt.show()"
      ]
    },
    {
      "cell_type": "code",
      "execution_count": 111,
      "metadata": {
        "colab": {
          "base_uri": "https://localhost:8080/"
        },
        "id": "W_3SXoZK-SY2",
        "outputId": "7c74bbcc-5998-46bb-ac2b-9dea60970dec"
      },
      "outputs": [
        {
          "output_type": "stream",
          "name": "stdout",
          "text": [
            "H1: 6e+26\n",
            "He4: 1.4998134966474133e+26\n",
            "C12: 5.218134966474112e+25\n",
            "N14: 4.92e+22\n",
            "C13: 3.779551001688423e-24\n",
            "N15: 3.350107465032132e-29\n",
            "O16: 1.8650335258926912e+22\n",
            "O17: 2.348708123533718e-32\n"
          ]
        }
      ],
      "source": [
        "for elem, value in X[-1].items():\n",
        "    print(f\"{elem}: {value}\")"
      ]
    },
    {
      "cell_type": "code",
      "source": [],
      "metadata": {
        "id": "BI4Uf2GB-ZJA"
      },
      "execution_count": 111,
      "outputs": []
    }
  ],
  "metadata": {
    "kernelspec": {
      "display_name": "Python 3",
      "language": "python",
      "name": "python3"
    },
    "language_info": {
      "codemirror_mode": {
        "name": "ipython",
        "version": 3
      },
      "file_extension": ".py",
      "mimetype": "text/x-python",
      "name": "python",
      "nbconvert_exporter": "python",
      "pygments_lexer": "ipython3",
      "version": "3.12.8"
    },
    "colab": {
      "provenance": []
    }
  },
  "nbformat": 4,
  "nbformat_minor": 0
}